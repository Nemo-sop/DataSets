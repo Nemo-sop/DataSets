{
  "nbformat": 4,
  "nbformat_minor": 0,
  "metadata": {
    "colab": {
      "name": "Chess Game Dataset - Fada / Perez Contreras.ipynb",
      "provenance": [],
      "collapsed_sections": []
    },
    "kernelspec": {
      "name": "python3",
      "display_name": "Python 3"
    },
    "language_info": {
      "name": "python"
    }
  },
  "cells": [
    {
      "cell_type": "markdown",
      "source": [
        "Columnas del dataset:\n",
        "\n",
        "  1. Game ID: Id de la partida, utilizada como indice\n",
        "  2. Rated (T/F):Si el juego afecta la puntuacion del usuario\n",
        "  3. Start Time:Tiempo inicio partida\n",
        "  4. End Time: Tiempo fin de la partida\n",
        "  5. Number of Turns: Turnos hasta fin del cjuego\n",
        "  6. Game Status: resultado\n",
        "  7. Winner: ganador\n",
        "  8. increment_code: Tiempo añadido al reloj despues de un movimiento\n",
        "  9. White Player ID: Id del jugador que jugo con piezas blancas\n",
        "  10. White Player Rating: Ranking del jugador que jugo con piezas blancas\n",
        "  11. Black Player ID: Id del jugador que jugo con piezas negras\n",
        "  12. Black Player Rating: Ranking del jugador que jugo con piezas negras\n",
        "  13. All Moves in Standard Chess Notation: lista de movimientos\n",
        "  14. Opening Eco: Codigo estandarizado del movimiento de apertura\n",
        "  15. Opening Name: Nombre de la estrategia de apertura\n",
        "  16. Opening Ply: Cantidad de movimientos en la fase de apertura\n"
      ],
      "metadata": {
        "id": "-6rp-7hP32Vf"
      }
    },
    {
      "cell_type": "code",
      "execution_count": 42,
      "metadata": {
        "colab": {
          "base_uri": "https://localhost:8080/"
        },
        "id": "gKvVALIe1arP",
        "outputId": "65687488-bc53-4773-9487-86b925a6930a"
      },
      "outputs": [
        {
          "output_type": "stream",
          "name": "stdout",
          "text": [
            "Cantidad de columnas:   15\n",
            "Cantidad de filas:      20058\n"
          ]
        },
        {
          "output_type": "execute_result",
          "data": {
            "text/plain": [
              "Index(['rated', 'created_at', 'last_move_at', 'turns', 'victory_status',\n",
              "       'winner', 'increment_code', 'white_id', 'white_rating', 'black_id',\n",
              "       'black_rating', 'moves', 'opening_eco', 'opening_name', 'opening_ply'],\n",
              "      dtype='object')"
            ]
          },
          "metadata": {},
          "execution_count": 42
        }
      ],
      "source": [
        "import pandas as pd\n",
        "\n",
        "url = 'https://github.com/Nemo-sop/DataSets/blob/main/Chess%20Game%20Dataset%20(Lichess).csv?raw=true'\n",
        "df = pd.read_csv(url,index_col=0)\n",
        "\n",
        "pd.set_option('display.max_rows', 20)\n",
        "pd.set_option('display.max_columns', 20)\n",
        "\n",
        "print(\"Cantidad de columnas:   \"+str(df.shape[1]))\n",
        "print(\"Cantidad de filas:      \"+str(df.shape[0]))\n",
        "df.columns"
      ]
    },
    {
      "cell_type": "code",
      "source": [
        "# determinamos la situaciones finales de una partida\n",
        "df[\"winner\"].unique()"
      ],
      "metadata": {
        "colab": {
          "base_uri": "https://localhost:8080/"
        },
        "id": "Gq9eHNkQ9uy_",
        "outputId": "ff1b6404-20a5-4589-c359-4c92e59a7aca"
      },
      "execution_count": 38,
      "outputs": [
        {
          "output_type": "execute_result",
          "data": {
            "text/plain": [
              "array(['white', 'black', 'draw'], dtype=object)"
            ]
          },
          "metadata": {},
          "execution_count": 38
        }
      ]
    },
    {
      "cell_type": "code",
      "source": [
        "# Determinar el porcentaje de victorias de las blancas\n",
        "victoriasBlancas = df[df.winner == \"white\"].shape[0]\n",
        "total = df.shape[0]\n",
        "\n",
        "print(f\"Porcentaje de victorias de las blancas: {victoriasBlancas/total*100}\")\n",
        "\n",
        "# Determinar el porcentaje de victorias de las negras\n",
        "victoriasNegras = df[df.winner == \"black\"].shape[0]\n",
        "\n",
        "print(f\"Porcentaje de victorias de las blancas: {victoriasNegras/total*100}\")\n",
        "\n",
        "# Determinar el porcentaje de empates\n",
        "empates = df[df.winner == \"draw\"].shape[0]\n",
        "\n",
        "print(f\"Porcentaje de empates: {empates/total*100}\")\n",
        "\n",
        "# Control\n",
        "empates/total*100 + victoriasNegras/total*100 + victoriasBlancas/total*100\n"
      ],
      "metadata": {
        "colab": {
          "base_uri": "https://localhost:8080/"
        },
        "id": "_vhDhXPm7S0n",
        "outputId": "1c03723b-5cfa-40da-e867-7dbfac832e05"
      },
      "execution_count": 41,
      "outputs": [
        {
          "output_type": "stream",
          "name": "stdout",
          "text": [
            "Porcentaje de victorias de las blancas: 49.86040482600458\n",
            "Porcentaje de victorias de las blancas: 45.403330342008175\n",
            "Porcentaje de empates: 4.736264831987238\n"
          ]
        },
        {
          "output_type": "execute_result",
          "data": {
            "text/plain": [
              "100.0"
            ]
          },
          "metadata": {},
          "execution_count": 41
        }
      ]
    },
    {
      "cell_type": "code",
      "source": [
        "# exploramos las columnas para determinar la estrategia mas usada\n",
        "aperturas = df[\"opening_name\"].unique()\n",
        "masUsada = [\"\", 0]\n",
        "for i in aperturas:\n",
        "  #print(f\"Cantidad de veces usada la estrategia {i} : {df[df.opening_name == i].shape[0]}\")\n",
        "  if df[df.opening_name == i].shape[0] > masUsada[1]:\n",
        "    masUsada = [i, df[df.opening_name == i].shape[0]]\n",
        "\n",
        "print(f\"La estategia mas usada es: {masUsada[0]}, fue usada {masUsada[1]} veces en {total} juegos ({round(masUsada[1]/total*100,2)} %)\")"
      ],
      "metadata": {
        "colab": {
          "base_uri": "https://localhost:8080/"
        },
        "id": "CwHTC_PT-oum",
        "outputId": "306b9077-7cc2-46f4-eced-c231c17dd981"
      },
      "execution_count": 57,
      "outputs": [
        {
          "output_type": "stream",
          "name": "stdout",
          "text": [
            "La estategia mas usada es: Van't Kruijs Opening, fue usada 368 veces en 20058 juegos (1.83 %)\n"
          ]
        }
      ]
    }
  ]
}