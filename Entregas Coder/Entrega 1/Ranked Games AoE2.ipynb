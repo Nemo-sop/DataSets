{
  "nbformat": 4,
  "nbformat_minor": 0,
  "metadata": {
    "colab": {
      "name": "Untitled1.ipynb",
      "provenance": []
    },
    "kernelspec": {
      "name": "python3",
      "display_name": "Python 3"
    },
    "language_info": {
      "name": "python"
    }
  },
  "cells": [
    {
      "cell_type": "code",
      "execution_count": 58,
      "metadata": {
        "colab": {
          "base_uri": "https://localhost:8080/"
        },
        "id": "EXPFhVt0UcQc",
        "outputId": "b73c44e3-061c-406b-d97a-581512178d7d"
      },
      "outputs": [
        {
          "output_type": "stream",
          "name": "stdout",
          "text": [
            "Cantidad de columnas:   22\n",
            "Cantidad de filas:      105624\n"
          ]
        }
      ],
      "source": [
        "import pandas as pd\n",
        "\n",
        "url = 'https://github.com/Nemo-sop/DataSets/blob/main/Ranked%20Games%20AoE2.csv?raw=true'\n",
        "df = pd.read_csv(url,index_col=0, encoding = \"ISO-8859-1\")\n",
        "\n",
        "pd.set_option('display.max_rows', 20)\n",
        "pd.set_option('display.max_columns', 20)\n",
        "\n",
        "print(\"Cantidad de columnas:   \"+str(df.shape[1]))\n",
        "print(\"Cantidad de filas:      \"+str(df.shape[0]))\n",
        "df.columns\n",
        "\n",
        "\n",
        "\n",
        "#renombramos la columna para sacr los puntos\n",
        "df.rename(columns = {'civ.win.name':'civ_win_name', 'civ.lose.name':'civ_lose_name'}, inplace = True)\n"
      ]
    },
    {
      "cell_type": "markdown",
      "source": [
        "Columnas del dataset:\n",
        "\n",
        "  1. match_uuid: Id de la partida, utilizada como indice\n",
        "  2. started: tiempo de inicio de partida\n",
        "  3. finished: tiempo fin de partida\n",
        "  4. map_type; tipo de mapa\n",
        "  5. steam_id.win: id de la plataforma Steam del ganador del combate\n",
        "  6. name.win: nombre del ganador\n",
        "  7. country.win: pais del ganador\n",
        "  8. rating.win: Ranking global del ganador\n",
        "  9. rating_change.win: aumento de los puntos en el ranking del ganaodor\n",
        "  10. civ.win: Civilizacion escogida por el ganador\n",
        "  11. color.win: color seleccionado por el ganador\n",
        "  12. steam_id.lose: id de la plataforma Steam del perdedor del combate\n",
        "  13. name.lose: nombre del perdedor\n",
        "  14. country.lose: pais del perdedor\n",
        "  15. rating.lose: Ranking global del ganador\n",
        "  16. rating_change.lose: disminucion de los puntos en el ranking del perdedor\n",
        "  17. civ.lose: Civilizacions escogida por el perdedor\n",
        "  18. color.lose: color seleccionado por el perdedor\n",
        "  19. map_type.name: nombre del mapa\n",
        "  20. civ.lose.name: nombre de la civilizacion del perderor\n",
        "  21. civ.win.name: nombre de la civilizacion del ganadir\n",
        "  22. matchup: civilizaciones enfrendas, por orden alfabetico y separadas por -\n",
        "  23. duration: duracion del combate"
      ],
      "metadata": {
        "id": "ihitwEiLWTKL"
      }
    },
    {
      "cell_type": "code",
      "source": [
        "#Civilizacion mas utilizada\n",
        "print(f'la civilicacion mas utilizada fueron los: {df[\"civ_win_name\"].value_counts().idxmax()} y se usaron {df[\"civ_win_name\"].value_counts().max()} veces')"
      ],
      "metadata": {
        "colab": {
          "base_uri": "https://localhost:8080/"
        },
        "id": "Y6AfTbvZZ2az",
        "outputId": "829dcea8-d341-4be3-c155-0de1c8c28539"
      },
      "execution_count": 59,
      "outputs": [
        {
          "output_type": "stream",
          "name": "stdout",
          "text": [
            "la civilicacion mas utilizada fueron los: Franks y se usaron 10626 veces\n"
          ]
        }
      ]
    },
    {
      "cell_type": "code",
      "source": [
        "#porcentaje de victorias \n",
        "ganadores =  df[\"civ_win_name\"]\n",
        "perdedores = df[\"civ_lose_name\"]\n",
        "\n",
        "\n",
        "\n",
        "civilizaciones = pd.concat([ganadores,perdedores],axis=0).unique()\n",
        "\n",
        "\n",
        "#print(df[df.civ_win_name == df[\"civ_win_name\"].value_counts().idxmax()])\n",
        "for civilizacion in civilizaciones:\n",
        "  victorias  = df[df.civ_win_name == civilizacion].shape[0]\n",
        "  derrotas = df[df.civ_lose_name == civilizacion].shape[0]\n",
        "\n",
        "  print(f\"civilizacion: {civilizacion}: {     round(victorias/(derrotas+victorias)*100,2)   }%\")\n",
        "\n",
        "\n"
      ],
      "metadata": {
        "colab": {
          "base_uri": "https://localhost:8080/"
        },
        "id": "nGoScBubavQQ",
        "outputId": "7a782d8b-0176-486e-c22e-d481fcd852bf"
      },
      "execution_count": 71,
      "outputs": [
        {
          "output_type": "stream",
          "name": "stdout",
          "text": [
            "Franks: 52.85%\n",
            "Portuguese: 45.36%\n",
            "Koreans: 47.46%\n",
            "Cumans: 46.06%\n",
            "Aztecs: 49.77%\n",
            "Celts: 51.07%\n",
            "Vietnamese: 45.88%\n",
            "Japanese: 49.58%\n",
            "Italians: 49.7%\n",
            "Britons: 48.49%\n",
            "Ethiopians: 50.37%\n",
            "Bulgarians: 51.99%\n",
            "Incas: 52.19%\n",
            "Mayans: 50.45%\n",
            "Mongols: 48.6%\n",
            "Tatars: 45.89%\n",
            "Magyars: 51.1%\n",
            "Goths: 52.47%\n",
            "Persians: 50.11%\n",
            "Indians: 49.13%\n",
            "Khmer: 48.28%\n",
            "Vikings: 51.88%\n",
            "Lithuanians: 52.48%\n",
            "Malians: 50.62%\n",
            "Turks: 50.17%\n",
            "Spanish: 47.37%\n",
            "Huns: 52.82%\n",
            "Saracens: 44.6%\n",
            "Byzantines: 46.14%\n",
            "Malay: 46.63%\n",
            "Chinese: 48.57%\n",
            "Slavs: 49.92%\n",
            "Burmese: 45.33%\n",
            "Teutons: 51.88%\n",
            "Sicilians: 47.72%\n",
            "Burgundians: 45.3%\n",
            "Berbers: 52.35%\n"
          ]
        }
      ]
    },
    {
      "cell_type": "code",
      "source": [
        ""
      ],
      "metadata": {
        "id": "DTb2OMVof3Or"
      },
      "execution_count": null,
      "outputs": []
    },
    {
      "cell_type": "code",
      "source": [
        ""
      ],
      "metadata": {
        "id": "TXdK1rzhfsRU"
      },
      "execution_count": null,
      "outputs": []
    },
    {
      "cell_type": "code",
      "source": [
        ""
      ],
      "metadata": {
        "id": "5LBdXZwmfYaU"
      },
      "execution_count": null,
      "outputs": []
    },
    {
      "cell_type": "code",
      "source": [
        ""
      ],
      "metadata": {
        "id": "5iedHFK-fWS1"
      },
      "execution_count": null,
      "outputs": []
    },
    {
      "cell_type": "code",
      "source": [
        ""
      ],
      "metadata": {
        "id": "xqjjMn8hd_XE"
      },
      "execution_count": null,
      "outputs": []
    },
    {
      "cell_type": "code",
      "source": [
        ""
      ],
      "metadata": {
        "id": "VNfiuZ06d9Og"
      },
      "execution_count": null,
      "outputs": []
    },
    {
      "cell_type": "code",
      "source": [
        ""
      ],
      "metadata": {
        "id": "un3qGWXiaUFg"
      },
      "execution_count": null,
      "outputs": []
    }
  ]
}