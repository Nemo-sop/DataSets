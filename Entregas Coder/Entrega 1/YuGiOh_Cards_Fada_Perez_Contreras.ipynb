{
  "nbformat": 4,
  "nbformat_minor": 0,
  "metadata": {
    "colab": {
      "name": "YuGiOh Cards - Fada / Perez Contreras.ipynb",
      "provenance": []
    },
    "kernelspec": {
      "name": "python3",
      "display_name": "Python 3"
    },
    "language_info": {
      "name": "python"
    }
  },
  "cells": [
    {
      "cell_type": "markdown",
      "source": [
        "Descripcion del Data set:\n",
        "\n",
        "\"All the cards from your popular trading card game Yu-Gi-Oh.\n",
        "\n",
        "Information downloaded from https://ygoprodeck.com/ via its API.\n",
        "\n",
        "The literal and graphical information presented on this dataset Yu-Gi-Oh!, including card images, the attribute, level/rank and type symbols, and card text, is copyright of 4K Media Inc, a subsidiary of Konami Digital Entertainment, Inc.\"\n",
        "\n"
      ],
      "metadata": {
        "id": "eOL7XXpYHgec"
      }
    },
    {
      "cell_type": "code",
      "execution_count": 51,
      "metadata": {
        "colab": {
          "base_uri": "https://localhost:8080/"
        },
        "id": "1mptMh1wHYx7",
        "outputId": "b04572f9-09ba-4695-c27f-b772c4018f7a"
      },
      "outputs": [
        {
          "output_type": "stream",
          "name": "stdout",
          "text": [
            "Cantidad de columnas:   17\n",
            "Cantidad de filas:      11183\n",
            "               atk          def        level       scale     linkval\n",
            "count  7386.000000  7057.000000  7056.000000  278.000000  329.000000\n",
            "mean   1464.067154  1224.629446     4.500709    4.381295    2.382979\n",
            "std     936.016771   850.984762     2.339989    2.806377    0.939877\n",
            "min       0.000000     0.000000     0.000000    0.000000    1.000000\n",
            "25%     800.000000   500.000000     3.000000    2.000000    2.000000\n",
            "50%    1500.000000  1200.000000     4.000000    4.000000    2.000000\n",
            "75%    2100.000000  1800.000000     6.000000    7.000000    3.000000\n",
            "max    5000.000000  5000.000000    13.000000   13.000000    6.000000\n"
          ]
        },
        {
          "output_type": "execute_result",
          "data": {
            "text/plain": [
              "Index(['name', 'type', 'desc', 'atk', 'def', 'level', 'race', 'attribute',\n",
              "       'scale', 'archetype', 'linkval', 'linkmarkers', 'image_url',\n",
              "       'image_url_small', 'ban_tcg', 'ban_ocg', 'ban_goat'],\n",
              "      dtype='object')"
            ]
          },
          "metadata": {},
          "execution_count": 51
        }
      ],
      "source": [
        "import pandas as pd\n",
        "\n",
        "url = 'https://github.com/Nemo-sop/DataSets/blob/main/YuGiOh%20Cards.csv?raw=true'\n",
        "\n",
        "df = pd.read_csv(url,index_col=0)\n",
        "\n",
        "pd.set_option('display.max_rows', 200)\n",
        "pd.set_option('display.max_columns', 20)\n",
        "\n",
        "print(\"Cantidad de columnas:   \"+str(df.shape[1]))\n",
        "print(\"Cantidad de filas:      \"+str(df.shape[0]))\n",
        "print(df.describe())\n",
        "df.columns"
      ]
    },
    {
      "cell_type": "code",
      "source": [
        "# Determinar cuantas cartas hay\n",
        "total = df[\"name\"].unique().shape[0]\n",
        "total"
      ],
      "metadata": {
        "colab": {
          "base_uri": "https://localhost:8080/"
        },
        "id": "_odfMjubTsAX",
        "outputId": "49308fa7-959e-4d61-c329-f29ad35dbb1d"
      },
      "execution_count": 19,
      "outputs": [
        {
          "output_type": "execute_result",
          "data": {
            "text/plain": [
              "11183"
            ]
          },
          "metadata": {},
          "execution_count": 19
        }
      ]
    },
    {
      "cell_type": "code",
      "source": [
        "# Exploramos los tipos de cartas que hay\n",
        "tiposDeCartas = df[\"type\"].unique()\n",
        "tiposDeCartas"
      ],
      "metadata": {
        "colab": {
          "base_uri": "https://localhost:8080/"
        },
        "id": "BmL-3hggYswG",
        "outputId": "b06a67e7-4657-4683-d3da-b268d6114fc8"
      },
      "execution_count": 22,
      "outputs": [
        {
          "output_type": "execute_result",
          "data": {
            "text/plain": [
              "array(['Spell Card', 'Effect Monster', 'Normal Monster',\n",
              "       'Flip Effect Monster', 'Trap Card', 'Union Effect Monster',\n",
              "       'Fusion Monster', 'Pendulum Effect Monster', 'Link Monster',\n",
              "       'XYZ Monster', 'Synchro Tuner Monster', 'Tuner Monster',\n",
              "       'Synchro Monster', 'Gemini Monster', 'Normal Tuner Monster',\n",
              "       'Spirit Monster', 'Ritual Effect Monster', 'Token', 'Skill Card',\n",
              "       'Ritual Monster', 'Toon Monster', 'Pendulum Normal Monster',\n",
              "       'Synchro Pendulum Effect Monster', 'Pendulum Tuner Effect Monster',\n",
              "       'XYZ Pendulum Effect Monster', 'Pendulum Effect Fusion Monster',\n",
              "       'Pendulum Flip Effect Monster'], dtype=object)"
            ]
          },
          "metadata": {},
          "execution_count": 22
        }
      ]
    },
    {
      "cell_type": "code",
      "source": [
        "# cambiamos el nombre de la coolumna type a tipo ya que nos trae errores\n",
        "df.rename(columns = {'type':'tipo'}, inplace = True)\n",
        "\n",
        "# Mostramos cuantas cartas hay de cada tipo y el porcentaje sobre el total\n",
        "for i in tiposDeCartas:\n",
        "  cantidad = df[df.tipo == i ].shape[0]\n",
        "  print(f\"Cantidad de cartas tipo {i}: {cantidad} ({round(cantidad/total*100,2)}%)\")"
      ],
      "metadata": {
        "colab": {
          "base_uri": "https://localhost:8080/"
        },
        "id": "L--s2NuHU7kW",
        "outputId": "ad90abc0-3a0d-4ffc-d252-58311c2eb06f"
      },
      "execution_count": 53,
      "outputs": [
        {
          "output_type": "stream",
          "name": "stdout",
          "text": [
            "Cantidad de cartas tipo Spell Card: 2089 (18.68%)\n",
            "Cantidad de cartas tipo Effect Monster: 4077 (36.46%)\n",
            "Cantidad de cartas tipo Normal Monster: 653 (5.84%)\n",
            "Cantidad de cartas tipo Flip Effect Monster: 170 (1.52%)\n",
            "Cantidad de cartas tipo Trap Card: 1638 (14.65%)\n",
            "Cantidad de cartas tipo Union Effect Monster: 36 (0.32%)\n",
            "Cantidad de cartas tipo Fusion Monster: 371 (3.32%)\n",
            "Cantidad de cartas tipo Pendulum Effect Monster: 215 (1.92%)\n",
            "Cantidad de cartas tipo Link Monster: 329 (2.94%)\n",
            "Cantidad de cartas tipo XYZ Monster: 432 (3.86%)\n",
            "Cantidad de cartas tipo Synchro Tuner Monster: 22 (0.2%)\n",
            "Cantidad de cartas tipo Tuner Monster: 371 (3.32%)\n",
            "Cantidad de cartas tipo Synchro Monster: 337 (3.01%)\n",
            "Cantidad de cartas tipo Gemini Monster: 43 (0.38%)\n",
            "Cantidad de cartas tipo Normal Tuner Monster: 10 (0.09%)\n",
            "Cantidad de cartas tipo Spirit Monster: 30 (0.27%)\n",
            "Cantidad de cartas tipo Ritual Effect Monster: 89 (0.8%)\n",
            "Cantidad de cartas tipo Token: 107 (0.96%)\n",
            "Cantidad de cartas tipo Skill Card: 70 (0.63%)\n",
            "Cantidad de cartas tipo Ritual Monster: 15 (0.13%)\n",
            "Cantidad de cartas tipo Toon Monster: 17 (0.15%)\n",
            "Cantidad de cartas tipo Pendulum Normal Monster: 39 (0.35%)\n",
            "Cantidad de cartas tipo Synchro Pendulum Effect Monster: 4 (0.04%)\n",
            "Cantidad de cartas tipo Pendulum Tuner Effect Monster: 8 (0.07%)\n",
            "Cantidad de cartas tipo XYZ Pendulum Effect Monster: 6 (0.05%)\n",
            "Cantidad de cartas tipo Pendulum Effect Fusion Monster: 4 (0.04%)\n",
            "Cantidad de cartas tipo Pendulum Flip Effect Monster: 1 (0.01%)\n"
          ]
        }
      ]
    },
    {
      "cell_type": "code",
      "source": [
        "# Determinamos cuales cartas poseen el ataque base mas alto del juego (5000 pts de atk)\n",
        "cantCartasAltas = df[df.atk == 5000].shape[0]\n",
        "cartasAltas = df[df.atk == 5000][\"name\"].unique()\n",
        "print(f\"{cartasAltas}\")"
      ],
      "metadata": {
        "colab": {
          "base_uri": "https://localhost:8080/"
        },
        "id": "3sRknAemZ_FF",
        "outputId": "e10527ba-9445-4ed2-fe0a-0217613c312c"
      },
      "execution_count": 42,
      "outputs": [
        {
          "output_type": "stream",
          "name": "stdout",
          "text": [
            "['Cyberdark End Dragon' 'Dragon Master Knight' 'Dystopia the Despondent'\n",
            " 'Five-Headed Dragon' 'Five-Headed Link Dragon'\n",
            " 'Flower Cardian Lightflare' 'Malefic Truth Dragon' 'Rocket Arrow Express'\n",
            " 'Superdimensional Robot Galaxy Destroyer']\n"
          ]
        }
      ]
    },
    {
      "cell_type": "code",
      "source": [
        "# Determinamos los porcentajes de las razas de los 'Normal Monster' (tener en cuenta de ejecutar la celda que efectua el cambio de type a tipo)\n",
        "df[df.tipo == 'Normal Monster'][\"race\"].value_counts()"
      ],
      "metadata": {
        "colab": {
          "base_uri": "https://localhost:8080/"
        },
        "id": "j7N-AVhidiNE",
        "outputId": "41c5b851-e2f9-473e-9cfd-61b23726b899"
      },
      "execution_count": 54,
      "outputs": [
        {
          "output_type": "execute_result",
          "data": {
            "text/plain": [
              "Fiend            69\n",
              "Warrior          64\n",
              "Aqua             56\n",
              "Machine          55\n",
              "Spellcaster      49\n",
              "Beast            48\n",
              "Dragon           36\n",
              "Fairy            32\n",
              "Insect           29\n",
              "Zombie           28\n",
              "Rock             27\n",
              "Winged Beast     23\n",
              "Plant            22\n",
              "Beast-Warrior    19\n",
              "Reptile          18\n",
              "Pyro             18\n",
              "Fish             17\n",
              "Dinosaur         15\n",
              "Thunder          10\n",
              "Sea Serpent       7\n",
              "Cyberse           5\n",
              "Psychic           3\n",
              "Wyrm              3\n",
              "Name: race, dtype: int64"
            ]
          },
          "metadata": {},
          "execution_count": 54
        }
      ]
    }
  ]
}